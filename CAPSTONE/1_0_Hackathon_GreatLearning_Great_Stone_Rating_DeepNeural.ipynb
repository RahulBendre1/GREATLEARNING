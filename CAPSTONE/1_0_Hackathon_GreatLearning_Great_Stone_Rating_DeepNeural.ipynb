{
  "nbformat": 4,
  "nbformat_minor": 0,
  "metadata": {
    "colab": {
      "name": "1.0_Hackathon_GreatLearning_Great_Stone_Rating_DeepNeural.ipynb",
      "provenance": [],
      "collapsed_sections": []
    },
    "kernelspec": {
      "name": "python3",
      "display_name": "Python 3"
    }
  },
  "cells": [
    {
      "cell_type": "code",
      "metadata": {
        "id": "rB8VZZbbaGgX",
        "colab_type": "code",
        "outputId": "8442dc46-c127-4c95-c11d-9ad0a5a1b42a",
        "colab": {
          "base_uri": "https://localhost:8080/",
          "height": 52
        }
      },
      "source": [
        "from google.colab import drive\n",
        "drive.mount('/gdrive')\n",
        "%cd /gdrive"
      ],
      "execution_count": 0,
      "outputs": [
        {
          "output_type": "stream",
          "text": [
            "Drive already mounted at /gdrive; to attempt to forcibly remount, call drive.mount(\"/gdrive\", force_remount=True).\n",
            "/gdrive\n"
          ],
          "name": "stdout"
        }
      ]
    },
    {
      "cell_type": "code",
      "metadata": {
        "id": "VqL2z5Q7jmJz",
        "colab_type": "code",
        "outputId": "c43ed637-5532-451e-e90c-1294c660887b",
        "colab": {
          "base_uri": "https://localhost:8080/",
          "height": 212
        }
      },
      "source": [
        "import numpy as np # linear algebra\n",
        "import seaborn as sns\n",
        "import pandas as pd # data processing, CSV file I/O (e.g. pd.read_csv)\n",
        "import os\n",
        "# Input data files are available in the \"../input/\" directory.\n",
        "# For example, running this (by clicking run or pressing Shift+Enter) will list all files under the input directory\n",
        "\n",
        "import pandas\n",
        "import matplotlib.pyplot as plt\n",
        "%matplotlib inline\n",
        "! pip install plotly_express\n",
        "import plotly_express as px\n",
        "\n",
        "# Any results you write to the current directory are saved as output."
      ],
      "execution_count": 0,
      "outputs": [
        {
          "output_type": "stream",
          "text": [
            "Requirement already satisfied: plotly_express in /usr/local/lib/python3.6/dist-packages (0.4.1)\n",
            "Requirement already satisfied: statsmodels>=0.9.0 in /usr/local/lib/python3.6/dist-packages (from plotly_express) (0.10.2)\n",
            "Requirement already satisfied: pandas>=0.20.0 in /usr/local/lib/python3.6/dist-packages (from plotly_express) (1.0.3)\n",
            "Requirement already satisfied: patsy>=0.5 in /usr/local/lib/python3.6/dist-packages (from plotly_express) (0.5.1)\n",
            "Requirement already satisfied: plotly>=4.1.0 in /usr/local/lib/python3.6/dist-packages (from plotly_express) (4.4.1)\n",
            "Requirement already satisfied: numpy>=1.11 in /usr/local/lib/python3.6/dist-packages (from plotly_express) (1.18.3)\n",
            "Requirement already satisfied: scipy>=0.18 in /usr/local/lib/python3.6/dist-packages (from plotly_express) (1.4.1)\n",
            "Requirement already satisfied: python-dateutil>=2.6.1 in /usr/local/lib/python3.6/dist-packages (from pandas>=0.20.0->plotly_express) (2.8.1)\n",
            "Requirement already satisfied: pytz>=2017.2 in /usr/local/lib/python3.6/dist-packages (from pandas>=0.20.0->plotly_express) (2018.9)\n",
            "Requirement already satisfied: six in /usr/local/lib/python3.6/dist-packages (from patsy>=0.5->plotly_express) (1.12.0)\n",
            "Requirement already satisfied: retrying>=1.3.3 in /usr/local/lib/python3.6/dist-packages (from plotly>=4.1.0->plotly_express) (1.3.3)\n"
          ],
          "name": "stdout"
        }
      ]
    },
    {
      "cell_type": "code",
      "metadata": {
        "id": "6pGxylPwsMK-",
        "colab_type": "code",
        "colab": {}
      },
      "source": [
        "import os\n",
        "os.chdir('/gdrive/My Drive/Hackathon/GREATLEARNING-APRIL/FeatureSelection/')"
      ],
      "execution_count": 0,
      "outputs": []
    },
    {
      "cell_type": "code",
      "metadata": {
        "id": "-nf_AgtERkPr",
        "colab_type": "code",
        "outputId": "4e1f67e8-c1d5-487c-9184-172660aed41d",
        "colab": {
          "base_uri": "https://localhost:8080/",
          "height": 194
        }
      },
      "source": [
        "!ls"
      ],
      "execution_count": 0,
      "outputs": [
        {
          "output_type": "stream",
          "text": [
            "best_columns.csv\t       fund_allocations_bkp.csv  other_specs.csv\n",
            "bond_ratings_bkp.csv\t       fund_allocations.csv\t primary_keys_df.csv\n",
            "bond_ratings.csv\t       fund_config_bkp.csv\t return_10year_bkp.csv\n",
            "data.csv\t\t       fund_config.csv\t\t return_10year.csv\n",
            "df_ANNOVA.csv\t\t       fund_ratios_bkp.csv\t return_3year_bkp.csv\n",
            "df_CHI2.csv\t\t       fund_ratios.csv\t\t return_3year.csv\n",
            "df_FI.csv\t\t       fund_specs_bkp.csv\t return_5year_bkp.csv\n",
            "df_final.csv\t\t       fund_specs.csv\t\t return_5year.csv\n",
            "df_RFE.csv\t\t       metrics.csv\n",
            "Feature-Selection-Methods.png  other_specs_bkp.csv\n"
          ],
          "name": "stdout"
        }
      ]
    },
    {
      "cell_type": "code",
      "metadata": {
        "id": "Hw5wvq6_RY7l",
        "colab_type": "code",
        "colab": {}
      },
      "source": [
        "## copying the files to feature selection folder\n",
        "!cp *.csv  '/gdrive/My Drive/Hackathon/GREATLEARNING-APRIL/FeatureAlgo/'"
      ],
      "execution_count": 0,
      "outputs": []
    },
    {
      "cell_type": "code",
      "metadata": {
        "id": "3Rj5a9vNR7i3",
        "colab_type": "code",
        "colab": {}
      },
      "source": [
        "os.chdir('/gdrive/My Drive/Hackathon/GREATLEARNING-APRIL/FeatureAlgo/')"
      ],
      "execution_count": 0,
      "outputs": []
    },
    {
      "cell_type": "code",
      "metadata": {
        "id": "uYrdgxMZRbOE",
        "colab_type": "code",
        "outputId": "7d77ffc5-c954-4d19-e417-7c18d658df93",
        "colab": {
          "base_uri": "https://localhost:8080/",
          "height": 212
        }
      },
      "source": [
        "\n",
        "!ls "
      ],
      "execution_count": 0,
      "outputs": [
        {
          "output_type": "stream",
          "text": [
            "best_columns.csv      df_training\t\tother_specs_bkp.csv\n",
            "bond_ratings_bkp.csv  df_training.csv\t\tother_specs.csv\n",
            "bond_ratings.csv      fund_allocations_bkp.csv\tprediction_metric.csv\n",
            "data.csv\t      fund_allocations.csv\tprimary_keys_df.csv\n",
            "df_ANNOVA.csv\t      fund_config_bkp.csv\treturn_10year_bkp.csv\n",
            "df_CHI2.csv\t      fund_config.csv\t\treturn_10year.csv\n",
            "df_FI.csv\t      fund_ratios_bkp.csv\treturn_3year_bkp.csv\n",
            "df_final.csv\t      fund_ratios.csv\t\treturn_3year.csv\n",
            "df_RFE.csv\t      fund_specs_bkp.csv\treturn_5year_bkp.csv\n",
            "df_testing\t      fund_specs.csv\t\treturn_5year.csv\n",
            "df_testing.csv\t      metrics.csv\t\tsample_submission.csv\n"
          ],
          "name": "stdout"
        }
      ]
    },
    {
      "cell_type": "code",
      "metadata": {
        "id": "t-NfzwbEodpH",
        "colab_type": "code",
        "colab": {}
      },
      "source": [
        "##### Reading the backup files\n",
        "df_RFE = pd.read_csv('/gdrive/My Drive/Hackathon/GREATLEARNING-APRIL/FeatureAlgo/df_RFE.csv')\n",
        "df_FI = pd.read_csv('/gdrive/My Drive/Hackathon/GREATLEARNING-APRIL/FeatureAlgo/df_FI.csv')\n",
        "df_CHI2 = pd.read_csv('/gdrive/My Drive/Hackathon/GREATLEARNING-APRIL/FeatureAlgo/df_CHI2.csv')\n",
        "df_ANNOVA = pd.read_csv('/gdrive/My Drive/Hackathon/GREATLEARNING-APRIL/FeatureAlgo/df_ANNOVA.csv')\n",
        "metrics = pd.read_csv('/gdrive/My Drive/Hackathon/GREATLEARNING-APRIL/FeatureAlgo/metrics.csv')\n",
        "primary_keys_df = pd.read_csv('/gdrive/My Drive/Hackathon/GREATLEARNING-APRIL/FeatureAlgo/primary_keys_df.csv')\n",
        "best_columns = pd.read_csv('/gdrive/My Drive/Hackathon/GREATLEARNING-APRIL/FeatureAlgo/best_columns.csv')\n",
        "data = pd.read_csv('/gdrive/My Drive/Hackathon/GREATLEARNING-APRIL/FeatureAlgo/data.csv')"
      ],
      "execution_count": 0,
      "outputs": []
    },
    {
      "cell_type": "code",
      "metadata": {
        "id": "mQ41GC7yV39-",
        "colab_type": "code",
        "colab": {}
      },
      "source": [
        "for i in list(metrics.columns): \n",
        "    if(i == 'Unnamed: 0') : \n",
        "        metrics.drop(columns='Unnamed: 0',axis=1,inplace=True)"
      ],
      "execution_count": 0,
      "outputs": []
    },
    {
      "cell_type": "code",
      "metadata": {
        "id": "963orZtime7S",
        "colab_type": "code",
        "colab": {}
      },
      "source": [
        "for i in list(primary_keys_df.columns): \n",
        "    if(i == 'Unnamed: 0') : \n",
        "        primary_keys_df.drop(columns='Unnamed: 0',axis=1,inplace=True)"
      ],
      "execution_count": 0,
      "outputs": []
    },
    {
      "cell_type": "code",
      "metadata": {
        "id": "66EsOPcX4Z2x",
        "colab_type": "code",
        "outputId": "1b2bdce7-0668-41ee-b74c-8b1a9dc1cfe4",
        "colab": {
          "base_uri": "https://localhost:8080/",
          "height": 157
        }
      },
      "source": [
        "df_ANNOVA.sample(3)"
      ],
      "execution_count": 0,
      "outputs": [
        {
          "output_type": "execute_result",
          "data": {
            "text/html": [
              "<div>\n",
              "<style scoped>\n",
              "    .dataframe tbody tr th:only-of-type {\n",
              "        vertical-align: middle;\n",
              "    }\n",
              "\n",
              "    .dataframe tbody tr th {\n",
              "        vertical-align: top;\n",
              "    }\n",
              "\n",
              "    .dataframe thead th {\n",
              "        text-align: right;\n",
              "    }\n",
              "</style>\n",
              "<table border=\"1\" class=\"dataframe\">\n",
              "  <thead>\n",
              "    <tr style=\"text-align: right;\">\n",
              "      <th></th>\n",
              "      <th>5yrs_sharpe_ratio_fund</th>\n",
              "      <th>fund_return_3years</th>\n",
              "      <th>5_years_return_fund</th>\n",
              "      <th>3yrs_sharpe_ratio_fund</th>\n",
              "      <th>10yrs_sharpe_ratio_fund</th>\n",
              "      <th>10_years_return_fund</th>\n",
              "      <th>3_years_alpha_fund</th>\n",
              "      <th>fund_ratio_net_annual_expense</th>\n",
              "      <th>5_years_alpha_fund</th>\n",
              "      <th>Year</th>\n",
              "      <th>1_year_return_fund</th>\n",
              "      <th>years_down</th>\n",
              "      <th>2018_return_fund</th>\n",
              "      <th>2015_return_fund</th>\n",
              "      <th>1_month_fund_return</th>\n",
              "      <th>cash_percent_of_portfolio</th>\n",
              "      <th>10yrs_sharpe_ratio_category</th>\n",
              "      <th>2017_return_fund</th>\n",
              "      <th>total_assets</th>\n",
              "      <th>2012_fund_return</th>\n",
              "      <th>pb_ratio</th>\n",
              "      <th>10_years_return_category</th>\n",
              "      <th>yield</th>\n",
              "      <th>return_ytd</th>\n",
              "      <th>is_leap_year</th>\n",
              "      <th>portfolio_tech_allocation</th>\n",
              "      <th>others_rating</th>\n",
              "      <th>2011_return_fund</th>\n",
              "      <th>is_month_end</th>\n",
              "      <th>bbb_rating</th>\n",
              "      <th>category_label</th>\n",
              "      <th>portfolio_financial_services</th>\n",
              "      <th>5yrs_sharpe_ratio_category</th>\n",
              "      <th>portfolio_others</th>\n",
              "      <th>below_b_rating</th>\n",
              "      <th>tag</th>\n",
              "      <th>greatstone_rating</th>\n",
              "    </tr>\n",
              "  </thead>\n",
              "  <tbody>\n",
              "    <tr>\n",
              "      <th>18603</th>\n",
              "      <td>0.30</td>\n",
              "      <td>1.01</td>\n",
              "      <td>1.24</td>\n",
              "      <td>0.00</td>\n",
              "      <td>0.945206</td>\n",
              "      <td>0.00</td>\n",
              "      <td>0.0</td>\n",
              "      <td>0.70</td>\n",
              "      <td>0.00</td>\n",
              "      <td>80</td>\n",
              "      <td>2.96000</td>\n",
              "      <td>1.0</td>\n",
              "      <td>1.02</td>\n",
              "      <td>0.560000</td>\n",
              "      <td>0.83</td>\n",
              "      <td>8.67</td>\n",
              "      <td>0.01</td>\n",
              "      <td>0.86</td>\n",
              "      <td>1.430000e+09</td>\n",
              "      <td>13.10248</td>\n",
              "      <td>0.00</td>\n",
              "      <td>2.70</td>\n",
              "      <td>1.68</td>\n",
              "      <td>1.37</td>\n",
              "      <td>1</td>\n",
              "      <td>0.00</td>\n",
              "      <td>0.25</td>\n",
              "      <td>2.49064</td>\n",
              "      <td>0</td>\n",
              "      <td>3.03</td>\n",
              "      <td>80</td>\n",
              "      <td>0.00</td>\n",
              "      <td>0.01</td>\n",
              "      <td>0.01</td>\n",
              "      <td>0.10</td>\n",
              "      <td>195443</td>\n",
              "      <td>2.0</td>\n",
              "    </tr>\n",
              "    <tr>\n",
              "      <th>23247</th>\n",
              "      <td>0.62</td>\n",
              "      <td>9.73</td>\n",
              "      <td>6.51</td>\n",
              "      <td>0.92</td>\n",
              "      <td>0.945206</td>\n",
              "      <td>0.00</td>\n",
              "      <td>0.0</td>\n",
              "      <td>0.59</td>\n",
              "      <td>0.00</td>\n",
              "      <td>83</td>\n",
              "      <td>1.63000</td>\n",
              "      <td>1.0</td>\n",
              "      <td>0.00</td>\n",
              "      <td>1.087845</td>\n",
              "      <td>1.08</td>\n",
              "      <td>2.68</td>\n",
              "      <td>0.01</td>\n",
              "      <td>21.24</td>\n",
              "      <td>1.632000e+08</td>\n",
              "      <td>13.10248</td>\n",
              "      <td>2.35</td>\n",
              "      <td>11.09</td>\n",
              "      <td>2.29</td>\n",
              "      <td>11.72</td>\n",
              "      <td>0</td>\n",
              "      <td>23.48</td>\n",
              "      <td>2.78</td>\n",
              "      <td>2.49064</td>\n",
              "      <td>0</td>\n",
              "      <td>17.79</td>\n",
              "      <td>3</td>\n",
              "      <td>15.67</td>\n",
              "      <td>0.01</td>\n",
              "      <td>0.24</td>\n",
              "      <td>1.24</td>\n",
              "      <td>237788</td>\n",
              "      <td>NaN</td>\n",
              "    </tr>\n",
              "    <tr>\n",
              "      <th>23572</th>\n",
              "      <td>0.47</td>\n",
              "      <td>3.53</td>\n",
              "      <td>6.94</td>\n",
              "      <td>0.22</td>\n",
              "      <td>0.880000</td>\n",
              "      <td>16.66</td>\n",
              "      <td>0.0</td>\n",
              "      <td>1.68</td>\n",
              "      <td>2.94</td>\n",
              "      <td>72</td>\n",
              "      <td>15.55101</td>\n",
              "      <td>3.0</td>\n",
              "      <td>0.00</td>\n",
              "      <td>2.040000</td>\n",
              "      <td>3.57</td>\n",
              "      <td>3.18</td>\n",
              "      <td>0.01</td>\n",
              "      <td>3.13</td>\n",
              "      <td>2.590000e+09</td>\n",
              "      <td>15.66000</td>\n",
              "      <td>2.13</td>\n",
              "      <td>17.24</td>\n",
              "      <td>1.37</td>\n",
              "      <td>17.06</td>\n",
              "      <td>1</td>\n",
              "      <td>1.12</td>\n",
              "      <td>0.00</td>\n",
              "      <td>9.79000</td>\n",
              "      <td>0</td>\n",
              "      <td>0.00</td>\n",
              "      <td>78</td>\n",
              "      <td>0.00</td>\n",
              "      <td>0.01</td>\n",
              "      <td>0.00</td>\n",
              "      <td>0.00</td>\n",
              "      <td>240776</td>\n",
              "      <td>NaN</td>\n",
              "    </tr>\n",
              "  </tbody>\n",
              "</table>\n",
              "</div>"
            ],
            "text/plain": [
              "       5yrs_sharpe_ratio_fund  fund_return_3years  ...     tag  greatstone_rating\n",
              "18603                    0.30                1.01  ...  195443                2.0\n",
              "23247                    0.62                9.73  ...  237788                NaN\n",
              "23572                    0.47                3.53  ...  240776                NaN\n",
              "\n",
              "[3 rows x 37 columns]"
            ]
          },
          "metadata": {
            "tags": []
          },
          "execution_count": 203
        }
      ]
    },
    {
      "cell_type": "code",
      "metadata": {
        "id": "F0SJRxBIMrMI",
        "colab_type": "code",
        "colab": {}
      },
      "source": [
        "df_training = df_ANNOVA[~data.greatstone_rating.isnull()]"
      ],
      "execution_count": 0,
      "outputs": []
    },
    {
      "cell_type": "code",
      "metadata": {
        "id": "Z4JTWarTMrI-",
        "colab_type": "code",
        "colab": {}
      },
      "source": [
        "df_testing =  df_ANNOVA[data.greatstone_rating.isnull()].drop(columns=['greatstone_rating'],axis=1)"
      ],
      "execution_count": 0,
      "outputs": []
    },
    {
      "cell_type": "code",
      "metadata": {
        "id": "4i3adRnaeDKO",
        "colab_type": "code",
        "colab": {}
      },
      "source": [
        "#metrics.drop(columns='Unnamed: 0.1',inplace=True,axis=1)"
      ],
      "execution_count": 0,
      "outputs": []
    },
    {
      "cell_type": "code",
      "metadata": {
        "id": "h5PyIajXVyyO",
        "colab_type": "code",
        "outputId": "df76cebe-94bd-40e1-b381-25eab740d43b",
        "colab": {
          "base_uri": "https://localhost:8080/",
          "height": 437
        }
      },
      "source": [
        "metrics"
      ],
      "execution_count": 0,
      "outputs": [
        {
          "output_type": "execute_result",
          "data": {
            "text/html": [
              "<div>\n",
              "<style scoped>\n",
              "    .dataframe tbody tr th:only-of-type {\n",
              "        vertical-align: middle;\n",
              "    }\n",
              "\n",
              "    .dataframe tbody tr th {\n",
              "        vertical-align: top;\n",
              "    }\n",
              "\n",
              "    .dataframe thead th {\n",
              "        text-align: right;\n",
              "    }\n",
              "</style>\n",
              "<table border=\"1\" class=\"dataframe\">\n",
              "  <thead>\n",
              "    <tr style=\"text-align: right;\">\n",
              "      <th></th>\n",
              "      <th>Name</th>\n",
              "      <th>Record_count</th>\n",
              "      <th>Columns_bkp</th>\n",
              "      <th>Columns</th>\n",
              "      <th>Col_obj</th>\n",
              "      <th>Col_int</th>\n",
              "      <th>Null_count</th>\n",
              "    </tr>\n",
              "  </thead>\n",
              "  <tbody>\n",
              "    <tr>\n",
              "      <th>0</th>\n",
              "      <td>bond_ratings</td>\n",
              "      <td>25000.0</td>\n",
              "      <td>12.0</td>\n",
              "      <td>10.0</td>\n",
              "      <td>0.0</td>\n",
              "      <td>10.0</td>\n",
              "      <td>0.0</td>\n",
              "    </tr>\n",
              "    <tr>\n",
              "      <th>1</th>\n",
              "      <td>fund_allocations</td>\n",
              "      <td>25000.0</td>\n",
              "      <td>12.0</td>\n",
              "      <td>12.0</td>\n",
              "      <td>0.0</td>\n",
              "      <td>12.0</td>\n",
              "      <td>0.0</td>\n",
              "    </tr>\n",
              "    <tr>\n",
              "      <th>2</th>\n",
              "      <td>fund_config</td>\n",
              "      <td>25000.0</td>\n",
              "      <td>4.0</td>\n",
              "      <td>4.0</td>\n",
              "      <td>2.0</td>\n",
              "      <td>2.0</td>\n",
              "      <td>0.0</td>\n",
              "    </tr>\n",
              "    <tr>\n",
              "      <th>3</th>\n",
              "      <td>fund_specs</td>\n",
              "      <td>25000.0</td>\n",
              "      <td>9.0</td>\n",
              "      <td>19.0</td>\n",
              "      <td>0.0</td>\n",
              "      <td>19.0</td>\n",
              "      <td>5000.0</td>\n",
              "    </tr>\n",
              "    <tr>\n",
              "      <th>4</th>\n",
              "      <td>return_10year</td>\n",
              "      <td>25000.0</td>\n",
              "      <td>17.0</td>\n",
              "      <td>12.0</td>\n",
              "      <td>0.0</td>\n",
              "      <td>12.0</td>\n",
              "      <td>0.0</td>\n",
              "    </tr>\n",
              "    <tr>\n",
              "      <th>5</th>\n",
              "      <td>return_3year</td>\n",
              "      <td>25000.0</td>\n",
              "      <td>17.0</td>\n",
              "      <td>12.0</td>\n",
              "      <td>0.0</td>\n",
              "      <td>12.0</td>\n",
              "      <td>0.0</td>\n",
              "    </tr>\n",
              "    <tr>\n",
              "      <th>6</th>\n",
              "      <td>return_5year</td>\n",
              "      <td>25000.0</td>\n",
              "      <td>17.0</td>\n",
              "      <td>12.0</td>\n",
              "      <td>0.0</td>\n",
              "      <td>12.0</td>\n",
              "      <td>0.0</td>\n",
              "    </tr>\n",
              "    <tr>\n",
              "      <th>7</th>\n",
              "      <td>other_specs</td>\n",
              "      <td>25000.0</td>\n",
              "      <td>43.0</td>\n",
              "      <td>29.0</td>\n",
              "      <td>0.0</td>\n",
              "      <td>29.0</td>\n",
              "      <td>5000.0</td>\n",
              "    </tr>\n",
              "    <tr>\n",
              "      <th>8</th>\n",
              "      <td>fund_ratios</td>\n",
              "      <td>25000.0</td>\n",
              "      <td>8.0</td>\n",
              "      <td>3.0</td>\n",
              "      <td>0.0</td>\n",
              "      <td>3.0</td>\n",
              "      <td>0.0</td>\n",
              "    </tr>\n",
              "    <tr>\n",
              "      <th>9</th>\n",
              "      <td>df_FI</td>\n",
              "      <td>25000.0</td>\n",
              "      <td>37.0</td>\n",
              "      <td>37.0</td>\n",
              "      <td>0.0</td>\n",
              "      <td>37.0</td>\n",
              "      <td>5000.0</td>\n",
              "    </tr>\n",
              "    <tr>\n",
              "      <th>10</th>\n",
              "      <td>df_CHI2</td>\n",
              "      <td>25000.0</td>\n",
              "      <td>37.0</td>\n",
              "      <td>37.0</td>\n",
              "      <td>0.0</td>\n",
              "      <td>37.0</td>\n",
              "      <td>5000.0</td>\n",
              "    </tr>\n",
              "    <tr>\n",
              "      <th>11</th>\n",
              "      <td>df_ANNOVA</td>\n",
              "      <td>25000.0</td>\n",
              "      <td>37.0</td>\n",
              "      <td>37.0</td>\n",
              "      <td>0.0</td>\n",
              "      <td>37.0</td>\n",
              "      <td>5000.0</td>\n",
              "    </tr>\n",
              "    <tr>\n",
              "      <th>12</th>\n",
              "      <td>df_RFE</td>\n",
              "      <td>25000.0</td>\n",
              "      <td>7.0</td>\n",
              "      <td>7.0</td>\n",
              "      <td>0.0</td>\n",
              "      <td>7.0</td>\n",
              "      <td>5000.0</td>\n",
              "    </tr>\n",
              "  </tbody>\n",
              "</table>\n",
              "</div>"
            ],
            "text/plain": [
              "                Name  Record_count  Columns_bkp  ...  Col_obj  Col_int  Null_count\n",
              "0       bond_ratings       25000.0         12.0  ...      0.0     10.0         0.0\n",
              "1   fund_allocations       25000.0         12.0  ...      0.0     12.0         0.0\n",
              "2        fund_config       25000.0          4.0  ...      2.0      2.0         0.0\n",
              "3         fund_specs       25000.0          9.0  ...      0.0     19.0      5000.0\n",
              "4      return_10year       25000.0         17.0  ...      0.0     12.0         0.0\n",
              "5       return_3year       25000.0         17.0  ...      0.0     12.0         0.0\n",
              "6       return_5year       25000.0         17.0  ...      0.0     12.0         0.0\n",
              "7        other_specs       25000.0         43.0  ...      0.0     29.0      5000.0\n",
              "8        fund_ratios       25000.0          8.0  ...      0.0      3.0         0.0\n",
              "9              df_FI       25000.0         37.0  ...      0.0     37.0      5000.0\n",
              "10           df_CHI2       25000.0         37.0  ...      0.0     37.0      5000.0\n",
              "11         df_ANNOVA       25000.0         37.0  ...      0.0     37.0      5000.0\n",
              "12            df_RFE       25000.0          7.0  ...      0.0      7.0      5000.0\n",
              "\n",
              "[13 rows x 7 columns]"
            ]
          },
          "metadata": {
            "tags": []
          },
          "execution_count": 207
        }
      ]
    },
    {
      "cell_type": "code",
      "metadata": {
        "id": "CCit_rkKMrFM",
        "colab_type": "code",
        "outputId": "cfd0df6c-0f13-41fc-915f-f2c05bd889b0",
        "colab": {
          "base_uri": "https://localhost:8080/",
          "height": 34
        }
      },
      "source": [
        "df_training.shape"
      ],
      "execution_count": 0,
      "outputs": [
        {
          "output_type": "execute_result",
          "data": {
            "text/plain": [
              "(20000, 37)"
            ]
          },
          "metadata": {
            "tags": []
          },
          "execution_count": 208
        }
      ]
    },
    {
      "cell_type": "code",
      "metadata": {
        "id": "7gRrvfMH6UEu",
        "colab_type": "code",
        "outputId": "95534cb4-8634-48e6-c20f-b885955ab7b1",
        "colab": {
          "base_uri": "https://localhost:8080/",
          "height": 157
        }
      },
      "source": [
        "df_training.sample(3)"
      ],
      "execution_count": 0,
      "outputs": [
        {
          "output_type": "execute_result",
          "data": {
            "text/html": [
              "<div>\n",
              "<style scoped>\n",
              "    .dataframe tbody tr th:only-of-type {\n",
              "        vertical-align: middle;\n",
              "    }\n",
              "\n",
              "    .dataframe tbody tr th {\n",
              "        vertical-align: top;\n",
              "    }\n",
              "\n",
              "    .dataframe thead th {\n",
              "        text-align: right;\n",
              "    }\n",
              "</style>\n",
              "<table border=\"1\" class=\"dataframe\">\n",
              "  <thead>\n",
              "    <tr style=\"text-align: right;\">\n",
              "      <th></th>\n",
              "      <th>5yrs_sharpe_ratio_fund</th>\n",
              "      <th>fund_return_3years</th>\n",
              "      <th>5_years_return_fund</th>\n",
              "      <th>3yrs_sharpe_ratio_fund</th>\n",
              "      <th>10yrs_sharpe_ratio_fund</th>\n",
              "      <th>10_years_return_fund</th>\n",
              "      <th>3_years_alpha_fund</th>\n",
              "      <th>fund_ratio_net_annual_expense</th>\n",
              "      <th>5_years_alpha_fund</th>\n",
              "      <th>Year</th>\n",
              "      <th>1_year_return_fund</th>\n",
              "      <th>years_down</th>\n",
              "      <th>2018_return_fund</th>\n",
              "      <th>2015_return_fund</th>\n",
              "      <th>1_month_fund_return</th>\n",
              "      <th>cash_percent_of_portfolio</th>\n",
              "      <th>10yrs_sharpe_ratio_category</th>\n",
              "      <th>2017_return_fund</th>\n",
              "      <th>total_assets</th>\n",
              "      <th>2012_fund_return</th>\n",
              "      <th>pb_ratio</th>\n",
              "      <th>10_years_return_category</th>\n",
              "      <th>yield</th>\n",
              "      <th>return_ytd</th>\n",
              "      <th>is_leap_year</th>\n",
              "      <th>portfolio_tech_allocation</th>\n",
              "      <th>others_rating</th>\n",
              "      <th>2011_return_fund</th>\n",
              "      <th>is_month_end</th>\n",
              "      <th>bbb_rating</th>\n",
              "      <th>category_label</th>\n",
              "      <th>portfolio_financial_services</th>\n",
              "      <th>5yrs_sharpe_ratio_category</th>\n",
              "      <th>portfolio_others</th>\n",
              "      <th>below_b_rating</th>\n",
              "      <th>tag</th>\n",
              "      <th>greatstone_rating</th>\n",
              "    </tr>\n",
              "  </thead>\n",
              "  <tbody>\n",
              "    <tr>\n",
              "      <th>19342</th>\n",
              "      <td>0.050000</td>\n",
              "      <td>5.07</td>\n",
              "      <td>0.48</td>\n",
              "      <td>0.36</td>\n",
              "      <td>0.450000</td>\n",
              "      <td>7.22</td>\n",
              "      <td>0.00</td>\n",
              "      <td>1.44</td>\n",
              "      <td>0.000000</td>\n",
              "      <td>62</td>\n",
              "      <td>0.00</td>\n",
              "      <td>8.855543</td>\n",
              "      <td>0.0</td>\n",
              "      <td>0.000000</td>\n",
              "      <td>1.81</td>\n",
              "      <td>0.40</td>\n",
              "      <td>0.01</td>\n",
              "      <td>26.260000</td>\n",
              "      <td>94510000.0</td>\n",
              "      <td>21.82000</td>\n",
              "      <td>2.02</td>\n",
              "      <td>8.92</td>\n",
              "      <td>2.14</td>\n",
              "      <td>10.55</td>\n",
              "      <td>0</td>\n",
              "      <td>21.3</td>\n",
              "      <td>0.00</td>\n",
              "      <td>0.00000</td>\n",
              "      <td>0</td>\n",
              "      <td>0.00</td>\n",
              "      <td>15</td>\n",
              "      <td>28.71</td>\n",
              "      <td>0.0</td>\n",
              "      <td>0.25</td>\n",
              "      <td>0.00</td>\n",
              "      <td>202166</td>\n",
              "      <td>2.0</td>\n",
              "    </tr>\n",
              "    <tr>\n",
              "      <th>448</th>\n",
              "      <td>0.538044</td>\n",
              "      <td>5.24</td>\n",
              "      <td>0.00</td>\n",
              "      <td>1.11</td>\n",
              "      <td>0.945206</td>\n",
              "      <td>0.00</td>\n",
              "      <td>3.38</td>\n",
              "      <td>0.01</td>\n",
              "      <td>0.718227</td>\n",
              "      <td>85</td>\n",
              "      <td>4.86</td>\n",
              "      <td>1.000000</td>\n",
              "      <td>0.0</td>\n",
              "      <td>1.087845</td>\n",
              "      <td>0.92</td>\n",
              "      <td>7.43</td>\n",
              "      <td>0.01</td>\n",
              "      <td>15.342478</td>\n",
              "      <td>379310000.0</td>\n",
              "      <td>13.10248</td>\n",
              "      <td>0.56</td>\n",
              "      <td>8.24</td>\n",
              "      <td>4.64</td>\n",
              "      <td>5.33</td>\n",
              "      <td>0</td>\n",
              "      <td>0.0</td>\n",
              "      <td>0.16</td>\n",
              "      <td>2.49064</td>\n",
              "      <td>0</td>\n",
              "      <td>28.56</td>\n",
              "      <td>17</td>\n",
              "      <td>0.00</td>\n",
              "      <td>0.0</td>\n",
              "      <td>0.00</td>\n",
              "      <td>0.65</td>\n",
              "      <td>30086</td>\n",
              "      <td>3.0</td>\n",
              "    </tr>\n",
              "    <tr>\n",
              "      <th>1585</th>\n",
              "      <td>0.538044</td>\n",
              "      <td>3.57</td>\n",
              "      <td>0.00</td>\n",
              "      <td>0.55</td>\n",
              "      <td>0.945206</td>\n",
              "      <td>0.00</td>\n",
              "      <td>2.03</td>\n",
              "      <td>2.42</td>\n",
              "      <td>0.718227</td>\n",
              "      <td>82</td>\n",
              "      <td>1.83</td>\n",
              "      <td>2.000000</td>\n",
              "      <td>0.0</td>\n",
              "      <td>0.000000</td>\n",
              "      <td>0.51</td>\n",
              "      <td>0.00</td>\n",
              "      <td>0.00</td>\n",
              "      <td>5.840000</td>\n",
              "      <td>2220000.0</td>\n",
              "      <td>13.10248</td>\n",
              "      <td>0.00</td>\n",
              "      <td>1.48</td>\n",
              "      <td>0.00</td>\n",
              "      <td>4.86</td>\n",
              "      <td>0</td>\n",
              "      <td>0.0</td>\n",
              "      <td>0.00</td>\n",
              "      <td>2.49064</td>\n",
              "      <td>0</td>\n",
              "      <td>0.00</td>\n",
              "      <td>50</td>\n",
              "      <td>0.00</td>\n",
              "      <td>0.0</td>\n",
              "      <td>0.00</td>\n",
              "      <td>0.00</td>\n",
              "      <td>40445</td>\n",
              "      <td>4.0</td>\n",
              "    </tr>\n",
              "  </tbody>\n",
              "</table>\n",
              "</div>"
            ],
            "text/plain": [
              "       5yrs_sharpe_ratio_fund  fund_return_3years  ...     tag  greatstone_rating\n",
              "19342                0.050000                5.07  ...  202166                2.0\n",
              "448                  0.538044                5.24  ...   30086                3.0\n",
              "1585                 0.538044                3.57  ...   40445                4.0\n",
              "\n",
              "[3 rows x 37 columns]"
            ]
          },
          "metadata": {
            "tags": []
          },
          "execution_count": 209
        }
      ]
    },
    {
      "cell_type": "code",
      "metadata": {
        "id": "eXaTskR6XkyR",
        "colab_type": "code",
        "outputId": "e8423760-c651-4405-9662-6b66bd371e44",
        "colab": {
          "base_uri": "https://localhost:8080/",
          "height": 34
        }
      },
      "source": [
        "df_testing.shape"
      ],
      "execution_count": 0,
      "outputs": [
        {
          "output_type": "execute_result",
          "data": {
            "text/plain": [
              "(5000, 36)"
            ]
          },
          "metadata": {
            "tags": []
          },
          "execution_count": 210
        }
      ]
    },
    {
      "cell_type": "code",
      "metadata": {
        "id": "huTBqImUVqxK",
        "colab_type": "code",
        "colab": {}
      },
      "source": [
        "\n",
        "############################### IMPORTING LIBRARIES ############################"
      ],
      "execution_count": 0,
      "outputs": []
    },
    {
      "cell_type": "code",
      "metadata": {
        "id": "O5EDkajz69oC",
        "colab_type": "code",
        "colab": {}
      },
      "source": [
        "# multi-class classification with Keras\n",
        "import pandas\n",
        "from keras.models import Sequential\n",
        "from keras.layers import Dense\n",
        "from keras.wrappers.scikit_learn import KerasClassifier\n",
        "from keras.utils import np_utils\n",
        "from sklearn.model_selection import cross_val_score\n",
        "from sklearn.model_selection import KFold\n",
        "from sklearn.preprocessing import LabelEncoder\n",
        "from sklearn.pipeline import Pipeline\n",
        "import numpy\n",
        "import tensorflow as tf\n",
        "from keras.models import Sequential\n",
        "from keras.layers import Dense\n",
        "from keras.layers import LSTM\n",
        "from keras.layers.embeddings import Embedding\n",
        "from keras.callbacks import EarlyStopping,  ModelCheckpoint\n",
        "from keras.preprocessing import sequence\n",
        "# fix random seed for reproducibility\n",
        "numpy.random.seed(7)"
      ],
      "execution_count": 0,
      "outputs": []
    },
    {
      "cell_type": "code",
      "metadata": {
        "id": "Nj4KGHH069ls",
        "colab_type": "code",
        "colab": {}
      },
      "source": [
        "X_0 = df_training.drop(columns=['tag','greatstone_rating'],axis=1).values\n",
        "y_0 = df_training.loc[:,['greatstone_rating']].values\n",
        "X_train_0,X_valid_0,y_train_0,y_valid_0 = train_test_split(X_0,y_0,test_size=0.3,random_state=576)\n",
        "from sklearn import preprocessing\n",
        "mm_scaler = preprocessing.MinMaxScaler()    #  MinMaxScaler() #StandardScaler\n",
        "X_train_minmax_0 = mm_scaler.fit_transform(X_train_0)\n",
        "X_valid_minmax_0 = mm_scaler.transform(X_valid_0)\n",
        "y_train_0 = y_train_0.ravel()\n",
        "y_valid_0 = y_valid_0.ravel()"
      ],
      "execution_count": 0,
      "outputs": []
    },
    {
      "cell_type": "code",
      "metadata": {
        "id": "WsDi1kZX8HTM",
        "colab_type": "code",
        "colab": {}
      },
      "source": [
        "#@@@@@@@@@@@@@@@@@@@@@@@@@@@@@@@@@@@@@@@@@@@@@@@@@@@@@@@@@ NEURAL ##########################################################################"
      ],
      "execution_count": 0,
      "outputs": []
    },
    {
      "cell_type": "code",
      "metadata": {
        "id": "uOE9fcNtgAee",
        "colab_type": "code",
        "outputId": "c726ca77-c96b-489c-b1ce-6089b2875294",
        "colab": {
          "base_uri": "https://localhost:8080/",
          "height": 34
        }
      },
      "source": [
        "# load dataset\n",
        "X = df_training.drop(columns=['tag','greatstone_rating'],axis=1).values.astype(float)\n",
        "Y = df_training.loc[:,['greatstone_rating']].values.ravel()\n",
        "# encode class values as integers\n",
        "encoder = LabelEncoder()\n",
        "encoder.fit(Y)\n",
        "encoded_Y = encoder.transform(Y)\n",
        "# convert integers to dummy variables (i.e. one hot encoded)\n",
        "dummy_y = np_utils.to_categorical(encoded_Y)\n",
        "#get number of columns in training data\n",
        "n_cols = dummy_y.shape[1]\n",
        "# define baseline model\n",
        "def baseline_model():\n",
        "\t# create model\n",
        "  #Initialize Sequential model\n",
        "  model = tf.keras.models.Sequential()\n",
        "\tmodel = Sequential()\n",
        "\tmodel.add(Dense(8, input_dim=X.shape[1], kernel_initializer='he_normal', activation='relu', name='Input_layer'))\n",
        "  model.add(BatchNormalization())\n",
        "  model.add(Dropout(0.4))\n",
        "  #Add 2nd hidden layer\n",
        "  model.add(Dense(50, activation='relu', kernel_initializer='he_normal',  name='Layer_1'))\n",
        "  # model.add(tf.keras.layers.LeakyReLU())\n",
        "  model.add(BatchNormalization())\n",
        "  #Dropout layer\n",
        "  model.add(Dropout(0.3))\n",
        "  #Add 3rd hidden layer\n",
        "  model.add(Dense(50, activation='relu', kernel_initializer='he_normal', name='Layer_2'))\n",
        "  # model.add(tf.keras.layers.LeakyReLU())\n",
        "  model.add(BatchNormalization())\n",
        "  model.add(Dropout(0.3))\n",
        "\tmodel.add(Dense(6, activation='softmax', kernel_initializer='he_normal', name='Output_layer'))\n",
        "  #Create optimizer with non-default learning rate\n",
        "  sgd_optimizer = optimizers.SGD(lr=0.03, decay=0.01 , momentum = 0.9, nesterov=True)\n",
        " \t# Compile model\n",
        "\tmodel.compile(loss='categorical_crossentropy', optimizer=sgd_optimizer, metrics=['accuracy'])\n",
        "\treturn model\n",
        "\n",
        "estimator = KerasClassifier(build_fn=baseline_model, epochs=200, batch_size=5, verbose=0)\n",
        "kfold = KFold(n_splits=10, shuffle=True)\n",
        "results = cross_val_score(estimator, X, dummy_y, cv=kfold)\n",
        "print(\"Baseline: %.2f%% (%.2f%%)\" % (results.mean()*100, results.std()*100))"
      ],
      "execution_count": 0,
      "outputs": [
        {
          "output_type": "stream",
          "text": [
            "Baseline: 33.93% (0.94%)\n"
          ],
          "name": "stdout"
        }
      ]
    },
    {
      "cell_type": "code",
      "metadata": {
        "id": "Phl1vTMS5LwG",
        "colab_type": "code",
        "colab": {}
      },
      "source": [
        "model.summary()"
      ],
      "execution_count": 0,
      "outputs": []
    },
    {
      "cell_type": "code",
      "metadata": {
        "id": "i0Vc66hTeYWr",
        "colab_type": "code",
        "colab": {}
      },
      "source": [
        "## model.compile(loss='binary_crossentropy', optimizer='adam', metrics=['accuracy'])\n",
        "\n",
        "# model.compile(loss='mean_absolute_error', optimizer='adam' , metrics=['mae']) ## 'adam'  ## model.compile(loss='mse', optimizer='adam', metrics=['mse','mae'])  mean_squared_error (mse) and mean_absolute_error (mae)"
      ],
      "execution_count": 0,
      "outputs": []
    },
    {
      "cell_type": "code",
      "metadata": {
        "id": "P1q9e8x7FB4Q",
        "colab_type": "code",
        "colab": {}
      },
      "source": [
        "tensorboard = tf.keras.callbacks.TensorBoard(log_dir='/tmp/mnist/cnn_v5', embeddings_freq=1)"
      ],
      "execution_count": 0,
      "outputs": []
    },
    {
      "cell_type": "code",
      "metadata": {
        "id": "-FwWCQxETX4U",
        "colab_type": "code",
        "colab": {}
      },
      "source": [
        "from keras.callbacks import EarlyStopping,  ModelCheckpoint\n",
        "#set early stopping monitor so the model stops training when it won't improve anymore\n",
        "early_stopping_monitor = EarlyStopping(monitor='val_loss', verbose=0, patience=3, min_delta=0.0001)"
      ],
      "execution_count": 0,
      "outputs": []
    },
    {
      "cell_type": "code",
      "metadata": {
        "id": "FHGCkMKMFEJ9",
        "colab_type": "code",
        "outputId": "34e9c9fb-97d2-4396-d3c3-8b068617de09",
        "colab": {
          "base_uri": "https://localhost:8080/",
          "height": 158
        }
      },
      "source": [
        "#Train the model\n",
        "model.fit(X_train_minmax_0, y_train_0,          \n",
        "          validation_data=(X_valid_minmax_0, y_valid_0),\n",
        "          #callbacks=[tensorboard],\n",
        "          epochs=10,\n",
        "          batch_size=32, callbacks=[early_stopping_monitor])"
      ],
      "execution_count": 0,
      "outputs": [
        {
          "output_type": "stream",
          "text": [
            "Train on 14000 samples, validate on 6000 samples\n",
            "Epoch 1/10\n",
            "14000/14000 [==============================] - 16s 1ms/sample - loss: nan - accuracy: 0.0673 - val_loss: nan - val_accuracy: 0.0725\n",
            "Epoch 2/10\n",
            "14000/14000 [==============================] - 14s 989us/sample - loss: nan - accuracy: 0.0664 - val_loss: nan - val_accuracy: 0.0725\n",
            "Epoch 3/10\n",
            "14000/14000 [==============================] - 14s 996us/sample - loss: nan - accuracy: 0.0664 - val_loss: nan - val_accuracy: 0.0725\n"
          ],
          "name": "stdout"
        },
        {
          "output_type": "execute_result",
          "data": {
            "text/plain": [
              "<tensorflow.python.keras.callbacks.History at 0x7f4a8b432208>"
            ]
          },
          "metadata": {
            "tags": []
          },
          "execution_count": 323
        }
      ]
    },
    {
      "cell_type": "code",
      "metadata": {
        "id": "aXc_E_S9FGOn",
        "colab_type": "code",
        "colab": {}
      },
      "source": [
        "#@@@@@@@@@@@@@@@@@@@@@@@@@@@@@@@@@@@@@@@@@@@@@@@@@@@@@@@@@@@@@@@@@@@@@@@@@@@@@@@@@@@@@@@@@@@@@@@@@@@@@@@@@@@@@@@@@@@@@@@@@@@@@@@@@@@@@@@@@@@@@@@@@@@@@@@@@@@@@@@@@@@@"
      ],
      "execution_count": 0,
      "outputs": []
    },
    {
      "cell_type": "code",
      "metadata": {
        "id": "Porjoaj3BDEU",
        "colab_type": "code",
        "colab": {}
      },
      "source": [
        "cp_callback = tf.keras.callbacks.ModelCheckpoint(filepath=LSTMcheckpoint_path,\n",
        "                                                 save_weights_only=True,\n",
        "                                                 monitor='loss',\n",
        "                                                 mode = 'min',\n",
        "                                                 save_best_only=True,\n",
        "                                                 verbose=1)"
      ],
      "execution_count": 0,
      "outputs": []
    },
    {
      "cell_type": "code",
      "metadata": {
        "id": "cxs_Kxx8m-Pp",
        "colab_type": "code",
        "colab": {}
      },
      "source": [
        "from keras.callbacks import EarlyStopping,  ModelCheckpoint\n",
        "\n",
        "filepath=\"/gdrive/My Drive/Hackathon/GREATLEARNING-APRIL/weights-improvement-{epoch:02d}-{loss:.4f}.hdf5\"\n",
        "checkpoint = ModelCheckpoint(filepath, monitor='loss', verbose=1, save_best_only=True, mode='min') ## from keras.callbacks import EarlyStopping,  ModelCheckpoint\n",
        "callbacks_list = [checkpoint]\n",
        "\n",
        "callbacks=[EarlyStopping(patience=4, monitor='accuracy'), ModelCheckpoint(filepath=\"/content/transcripts/\"  + 'my_model_gen_sentences_lstm.{epoch:02d}-{val_loss:.2f}.hdf5', monitor='val_loss', verbose=0, mode='auto', period=2)]\n"
      ],
      "execution_count": 0,
      "outputs": []
    },
    {
      "cell_type": "code",
      "metadata": {
        "id": "AurFTEg5eYSb",
        "colab_type": "code",
        "colab": {}
      },
      "source": [
        "# history = model.fit(X_train, Y_train, epochs=epochs, batch_size=batch_size,validation_split=0.1,   callbacks=[EarlyStopping(monitor='val_loss', patience=3, min_delta=0.0001)])\n",
        "history = model.fit(X_train_minmax_0, y_train_0, epochs=20,batch_size=32,validation_data=(X_valid_minmax_0, y_valid_0))#,   callbacks=callbacks_list\n",
        "# history = model.fit(X_train, Y_train, epochs=epochs, batch_size=batch_size,validation_split=0.1,   callbacks=callbacks_list)\n",
        "# define the checkpoint"
      ],
      "execution_count": 0,
      "outputs": []
    },
    {
      "cell_type": "code",
      "metadata": {
        "id": "5Br8snmrK9ND",
        "colab_type": "code",
        "colab": {}
      },
      "source": [
        "model.save('mnist_dnn_v1.h5')"
      ],
      "execution_count": 0,
      "outputs": []
    },
    {
      "cell_type": "code",
      "metadata": {
        "id": "_8osBOx-eYOk",
        "colab_type": "code",
        "colab": {}
      },
      "source": [
        "# accr = model.evaluate(X_test,Y_test)\n",
        "scores = model.evaluate(X_valid_minmax, y_valid, verbose=0)\n",
        "print(\"Accuracy: %.2f%%\" % (scores[1]*100))\n"
      ],
      "execution_count": 0,
      "outputs": []
    },
    {
      "cell_type": "code",
      "metadata": {
        "id": "k5Dmeri5eYIl",
        "colab_type": "code",
        "colab": {}
      },
      "source": [
        "plt.title('Loss')\n",
        "plt.plot(history.history['loss'], label='train')\n",
        "plt.plot(history.history['val_loss'], label='test')\n",
        "plt.legend()\n",
        "plt.show()"
      ],
      "execution_count": 0,
      "outputs": []
    },
    {
      "cell_type": "code",
      "metadata": {
        "id": "tbXEyN1anpgk",
        "colab_type": "code",
        "colab": {}
      },
      "source": [
        "predictions = model.predict(X_test_minmax)#, verbose=0)\n",
        "len(predictions)"
      ],
      "execution_count": 0,
      "outputs": []
    },
    {
      "cell_type": "code",
      "metadata": {
        "id": "QpyZEHt3404t",
        "colab_type": "code",
        "colab": {}
      },
      "source": [
        "print(len(predictions))"
      ],
      "execution_count": 0,
      "outputs": []
    },
    {
      "cell_type": "code",
      "metadata": {
        "id": "khQ5JjrR8KLb",
        "colab_type": "code",
        "colab": {}
      },
      "source": [
        "type(predictions)"
      ],
      "execution_count": 0,
      "outputs": []
    },
    {
      "cell_type": "code",
      "metadata": {
        "id": "l0BBkq-C-iMb",
        "colab_type": "code",
        "colab": {}
      },
      "source": [
        "y_test_pred = [x[0] for x in predictions]\n",
        "y_test_pred"
      ],
      "execution_count": 0,
      "outputs": []
    },
    {
      "cell_type": "code",
      "metadata": {
        "id": "sCjxUpr_xREK",
        "colab_type": "code",
        "colab": {}
      },
      "source": [
        "df_test_bkp.head()"
      ],
      "execution_count": 0,
      "outputs": []
    },
    {
      "cell_type": "code",
      "metadata": {
        "id": "5G8A-qrS5kn6",
        "colab_type": "code",
        "colab": {}
      },
      "source": [
        "df_submission_final = pd.concat([df_test_bkp,np.round(pd.Series(y_test_pred,name='case_count'),1).astype('int64')],axis=1,)"
      ],
      "execution_count": 0,
      "outputs": []
    },
    {
      "cell_type": "code",
      "metadata": {
        "id": "EqdRaIVWWXSQ",
        "colab_type": "code",
        "colab": {}
      },
      "source": [
        "df_training.to_csv('/gdrive/My Drive/Hackathon/GREATLEARNING-APRIL/FeatureAlgo/df_training.csv',index=False)"
      ],
      "execution_count": 0,
      "outputs": []
    },
    {
      "cell_type": "code",
      "metadata": {
        "id": "Gq-h44uhWXQP",
        "colab_type": "code",
        "colab": {}
      },
      "source": [
        "df_testing.to_csv('/gdrive/My Drive/Hackathon/GREATLEARNING-APRIL/FeatureAlgo/df_testing.csv',index=False)"
      ],
      "execution_count": 0,
      "outputs": []
    }
  ]
}